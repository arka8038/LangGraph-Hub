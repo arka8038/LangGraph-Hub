{
 "cells": [
  {
   "cell_type": "markdown",
   "metadata": {},
   "source": [
    "### LangGraph Tool Routing  \n",
    "\n",
    "#### Overview  \n",
    "This script demonstrates how to use **LangGraph** to build a structured workflow that can invoke tools dynamically. The workflow includes:  \n",
    "\n",
    "- **LLM-Based Chat**: Uses `ChatGroq` to process and respond to user messages.  \n",
    "- **Tool Invocation**: Supports basic mathematical operations (addition and multiplication).  \n",
    "- **State Graph**: Implements a structured execution flow using `StateGraph` for dynamic tool execution.  \n",
    "\n",
    "#### Features  \n",
    "- Initializes a chat history with predefined messages.  \n",
    "- Binds math functions (`add_numbers`, `multiply_numbers`) as tools for LLM-based execution.  \n",
    "- Constructs a **state graph** that routes tool calls dynamically based on conditions.  \n",
    "- Generates a **visual representation** of the workflow graph.  \n",
    "\n",
    "#### Tool Routing Logic  \n",
    "1. **User Query Processing**  \n",
    "   - The LLM receives a user query and determines if a tool needs to be invoked.  \n",
    "   \n",
    "2. **Tool Invocation Handling**  \n",
    "   - If the query involves addition or multiplication, the corresponding function is executed.  \n",
    "   - If the query contains an unsupported operation (e.g., division), it is not handled by the tools.  \n",
    "\n",
    "3. **Routing in the State Graph**  \n",
    "   - The workflow starts at `START`.  \n",
    "   - It moves to `invoke_tool_function`, where the LLM decides if a tool call is needed.  \n",
    "   - If a tool call is detected, execution moves to the **Tools Node**.  \n",
    "   - If no valid tool is found, the execution **ends without tool invocation**.  "
   ]
  },
  {
   "cell_type": "code",
   "execution_count": 12,
   "metadata": {},
   "outputs": [],
   "source": [
    "import os\n",
    "from dotenv import load_dotenv\n",
    "from pprint import pprint\n",
    "from langchain_core.messages import AIMessage, HumanMessage, AnyMessage\n",
    "from langchain_groq import ChatGroq\n",
    "from langgraph.graph import StateGraph, START, END\n",
    "from langgraph.prebuilt import ToolNode, tools_condition\n",
    "from langgraph.graph.message import add_messages\n",
    "from typing import TypedDict, Annotated\n",
    "from IPython.display import Image, display\n"
   ]
  },
  {
   "cell_type": "code",
   "execution_count": 13,
   "metadata": {},
   "outputs": [],
   "source": [
    "# Load environment variables from a .env file\n",
    "load_dotenv()\n",
    "\n",
    "# Set API key for Groq model\n",
    "os.environ['GROQ_API_KEY'] = os.getenv(\"GROQ_API_KEY\")"
   ]
  },
  {
   "cell_type": "code",
   "execution_count": 14,
   "metadata": {},
   "outputs": [
    {
     "name": "stdout",
     "output_type": "stream",
     "text": [
      "==================================\u001b[1m Ai Message \u001b[0m==================================\n",
      "Name: Model\n",
      "\n",
      "So you said you were researching ocean mammals?\n",
      "================================\u001b[1m Human Message \u001b[0m=================================\n",
      "Name: John\n",
      "\n",
      "Yes, that's right.\n",
      "==================================\u001b[1m Ai Message \u001b[0m==================================\n",
      "Name: Model\n",
      "\n",
      "Great, what would you like to learn about.\n",
      "================================\u001b[1m Human Message \u001b[0m=================================\n",
      "Name: John\n",
      "\n",
      "I want to learn about the best place to see Orcas in the US.\n"
     ]
    }
   ],
   "source": [
    "# Step 1: Define a chat history using messages\n",
    "chat_history = [\n",
    "    AIMessage(content=f\"So you said you were researching ocean mammals?\", name=\"Model\"),\n",
    "    HumanMessage(content=f\"Yes, that's right.\",name=\"John\"),\n",
    "    AIMessage(content=f\"Great, what would you like to learn about.\", name=\"Model\"),\n",
    "    HumanMessage(content=f\"I want to learn about the best place to see Orcas in the US.\", name=\"John\")\n",
    "]\n",
    "\n",
    "# Print chat history for verification\n",
    "for messages in chat_history:\n",
    "    messages.pretty_print()"
   ]
  },
  {
   "cell_type": "code",
   "execution_count": 15,
   "metadata": {},
   "outputs": [
    {
     "name": "stdout",
     "output_type": "stream",
     "text": [
      "AI Response: content=\"Seeing orcas (also known as killer whales) in the United States can be a thrilling experience. One of the best places to see them is in the Pacific Northwest, particularly around the waters of Washington State. Here are a few specific spots:\\n\\n1. **San Juan Islands, Washington**: This is one of the most famous places to spot orcas, especially during summer months. The waters around San Juan Island are part of the Salish Sea, which is a critical habitat for the Southern Resident Killer Whales, a group of orcas that has been the subject of much conservation effort due to their endangered status. You can join a whale-watching tour from various spots like Friday Harbor.\\n\\n2. **Olympic Coast National Marine Sanctuary, Washington**: This area off the coast of Washington State is also a good place to see orcas, particularly Northern Resident orcas and transient orcas that travel in smaller pods. These waters are rich in fish, which attract orcas and other marine life.\\n\\n3. **Oregon Coast**: While less frequent than in Washington, orcas can also be seen off the Oregon coast, especially in the summer when they follow their prey into warmer waters.\\n\\n4. **California Coast**: Off the coast of California, particularly around Monterey Bay and the Farallon Islands, orcas can sometimes be seen, especially during the winter months when they are more likely to be in the area.\\n\\nWhen planning a trip, it's important to note that orca sightings are not guaranteed, and their presence in these areas can vary from year to year. Weather and sea conditions can also affect the feasibility of whale-watching tours. Always choose responsible and eco-friendly tour operators to minimize the impact on the wildlife and the environment.\" additional_kwargs={} response_metadata={'token_usage': {'completion_tokens': 348, 'prompt_tokens': 90, 'total_tokens': 438, 'completion_time': 1.74, 'prompt_time': 0.008947567, 'queue_time': 0.048687663000000006, 'total_time': 1.748947567}, 'model_name': 'qwen-2.5-32b', 'system_fingerprint': 'fp_c527211fd1', 'finish_reason': 'stop', 'logprobs': None} id='run-42064fac-b59a-4848-88e0-d17926f2e5b2-0' usage_metadata={'input_tokens': 90, 'output_tokens': 348, 'total_tokens': 438}\n"
     ]
    }
   ],
   "source": [
    "# Step 2: Initialize the Groq LLM model\n",
    "llm = ChatGroq(model='qwen-2.5-32b')\n",
    "\n",
    "# Generate AI response based on the chat history\n",
    "ai_response = llm.invoke(chat_history)\n",
    "print(\"AI Response:\", ai_response)"
   ]
  },
  {
   "cell_type": "code",
   "execution_count": 16,
   "metadata": {},
   "outputs": [],
   "source": [
    "# Step 3: Define simple math functions for tool invocation\n",
    "def add_numbers(a:int, b:int) -> int :\n",
    "    \"\"\"Add a and b.\n",
    "\n",
    "    Args:\n",
    "        a: first int\n",
    "        b: second int\n",
    "    \"\"\"\n",
    "    return a+b\n",
    "\n",
    "def multiply_numbers(a:int, b:int) -> int :\n",
    "    \"\"\"Multiply a and b.\n",
    "\n",
    "    Args:\n",
    "        a: first int\n",
    "        b: second int\n",
    "    \"\"\"\n",
    "    return a*b"
   ]
  },
  {
   "cell_type": "code",
   "execution_count": 17,
   "metadata": {},
   "outputs": [],
   "source": [
    "# Bind tools to the LLM model\n",
    "llm_with_tools = llm.bind_tools([add_numbers, multiply_numbers])"
   ]
  },
  {
   "cell_type": "code",
   "execution_count": 18,
   "metadata": {},
   "outputs": [
    {
     "name": "stdout",
     "output_type": "stream",
     "text": [
      "Tool Response: content='' additional_kwargs={'tool_calls': [{'id': 'call_j657', 'function': {'arguments': '{\"a\": 2, \"b\": 3}', 'name': 'add_numbers'}, 'type': 'function'}]} response_metadata={'token_usage': {'completion_tokens': 26, 'prompt_tokens': 274, 'total_tokens': 300, 'completion_time': 0.13, 'prompt_time': 0.017550817, 'queue_time': 0.090397344, 'total_time': 0.147550817}, 'model_name': 'qwen-2.5-32b', 'system_fingerprint': 'fp_c527211fd1', 'finish_reason': 'tool_calls', 'logprobs': None} id='run-eb61360b-c115-4a07-9934-5bfa2e7cfbd8-0' tool_calls=[{'name': 'add_numbers', 'args': {'a': 2, 'b': 3}, 'id': 'call_j657', 'type': 'tool_call'}] usage_metadata={'input_tokens': 274, 'output_tokens': 26, 'total_tokens': 300}\n",
      "Tool Calls: [{'name': 'add_numbers', 'args': {'a': 2, 'b': 3}, 'id': 'call_j657', 'type': 'tool_call'}]\n"
     ]
    }
   ],
   "source": [
    "# Step 4: Invoke the model with a tool call (e.g., for math operations)\n",
    "tool_response = llm_with_tools.invoke([\n",
    "    HumanMessage(content=f\"What is 2 plus by 3\", name=\"John\")\n",
    "])\n",
    "\n",
    "# Print the tool response\n",
    "print(\"Tool Response:\", tool_response)\n",
    "print(\"Tool Calls:\", tool_response.tool_calls)"
   ]
  },
  {
   "cell_type": "code",
   "execution_count": 19,
   "metadata": {},
   "outputs": [],
   "source": [
    "# Step 5: Define a message state type for handling messages within the graph\n",
    "class MessageState(TypedDict):\n",
    "    messages: Annotated[list[AnyMessage], add_messages]"
   ]
  },
  {
   "cell_type": "code",
   "execution_count": 20,
   "metadata": {},
   "outputs": [],
   "source": [
    "# Step 6: Define a function to call tools within the state graph\n",
    "def invoke_tool_function(state: MessageState):\n",
    "    \"\"\"Processes messages and invokes appropriate tools if needed.\"\"\"\n",
    "    return {\"messages\": [llm_with_tools.invoke(state[\"messages\"])]}"
   ]
  },
  {
   "cell_type": "code",
   "execution_count": 21,
   "metadata": {},
   "outputs": [
    {
     "data": {
      "image/png": "[encoded data removed]",
      "text/plain": [
       "<IPython.core.display.Image object>"
      ]
     },
     "metadata": {},
     "output_type": "display_data"
    }
   ],
   "source": [
    "\n",
    "# Step 7: Build a state graph for managing tool calls\n",
    "workflow_builder = StateGraph(MessageState)\n",
    "\n",
    "# Add nodes to the graph\n",
    "workflow_builder.add_node(\"invoke_tool_function\", invoke_tool_function)\n",
    "workflow_builder.add_node(\"tools\", ToolNode([add_numbers, multiply_numbers]))\n",
    "\n",
    "# Define graph execution flow\n",
    "workflow_builder.add_edge(START, \"invoke_tool_function\")\n",
    "workflow_builder.add_conditional_edges(\"invoke_tool_function\", tools_condition)\n",
    "workflow_builder.add_edge(\"tools\", END)\n",
    "\n",
    "# Compile the graph\n",
    "workflow_graph = workflow_builder.compile()\n",
    "\n",
    "# Display the graph structure\n",
    "display(Image(workflow_graph.get_graph().draw_mermaid_png()))"
   ]
  },
  {
   "cell_type": "code",
   "execution_count": 24,
   "metadata": {},
   "outputs": [],
   "source": [
    "# Step 8: Invoke the graph with a user query\n",
    "execution_result = workflow_graph.invoke({\n",
    "    \"messages\": HumanMessage(content=\"What is 2 multiplied by 2? Add 4 to the result. Divide the final result by 2\")\n",
    "})"
   ]
  },
  {
   "cell_type": "code",
   "execution_count": 25,
   "metadata": {},
   "outputs": [
    {
     "name": "stdout",
     "output_type": "stream",
     "text": [
      "================================\u001b[1m Human Message \u001b[0m=================================\n",
      "\n",
      "What is 2 multiplied by 2? Add 4 to the result. Divide the final result by 2\n",
      "==================================\u001b[1m Ai Message \u001b[0m==================================\n",
      "Tool Calls:\n",
      "  multiply_numbers (call_9pec)\n",
      " Call ID: call_9pec\n",
      "  Args:\n",
      "    a: 2\n",
      "    b: 2\n",
      "  add_numbers (call_xqqk)\n",
      " Call ID: call_xqqk\n",
      "  Args:\n",
      "    a: 4\n",
      "    b: 4\n",
      "  divide_numbers (call_z25b)\n",
      " Call ID: call_z25b\n",
      "  Args:\n",
      "    a: 8\n",
      "    b: 2\n",
      "=================================\u001b[1m Tool Message \u001b[0m=================================\n",
      "Name: multiply_numbers\n",
      "\n",
      "4\n",
      "=================================\u001b[1m Tool Message \u001b[0m=================================\n",
      "Name: add_numbers\n",
      "\n",
      "8\n",
      "=================================\u001b[1m Tool Message \u001b[0m=================================\n",
      "Name: divide_numbers\n",
      "\n",
      "Error: divide_numbers is not a valid tool, try one of [add_numbers, multiply_numbers].\n"
     ]
    }
   ],
   "source": [
    "# Print the messages from the execution result\n",
    "for message in execution_result[\"messages\"]:\n",
    "    message.pretty_print()"
   ]
  }
 ],
 "metadata": {
  "kernelspec": {
   "display_name": "llms",
   "language": "python",
   "name": "python3"
  },
  "language_info": {
   "codemirror_mode": {
    "name": "ipython",
    "version": 3
   },
   "file_extension": ".py",
   "mimetype": "text/x-python",
   "name": "python",
   "nbconvert_exporter": "python",
   "pygments_lexer": "ipython3",
   "version": "3.11.11"
  }
 },
 "nbformat": 4,
 "nbformat_minor": 2
}
